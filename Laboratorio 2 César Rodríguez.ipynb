{
 "cells": [
  {
   "attachments": {},
   "cell_type": "markdown",
   "metadata": {},
   "source": [
    "Ejercicio 1"
   ]
  },
  {
   "cell_type": "code",
   "execution_count": 19,
   "metadata": {},
   "outputs": [
    {
     "name": "stdout",
     "output_type": "stream",
     "text": [
      "Horas: 1 - Minutos: 37 - Segundos: 51\n"
     ]
    }
   ],
   "source": [
    "Segundos= int(input (\"Ingrese los segundos:\"))\n",
    "\n",
    "Horas = Segundos //(60*60)\n",
    "Segundos = Segundos % (60*60)\n",
    "Minutos = Segundos // (60)\n",
    "Segundos= Segundos % (60)\n",
    "\n",
    "print('Horas: {} - Minutos: {} - Segundos: {}'.format(Horas, Minutos, Segundos))"
   ]
  },
  {
   "attachments": {},
   "cell_type": "markdown",
   "metadata": {},
   "source": [
    "Ejercicio 2"
   ]
  },
  {
   "cell_type": "code",
   "execution_count": 38,
   "metadata": {},
   "outputs": [
    {
     "name": "stdout",
     "output_type": "stream",
     "text": [
      "\n",
      "*\n",
      "**\n",
      "***\n",
      "****\n",
      "    \n",
      "   *\n",
      "  **\n",
      " ***\n",
      "****\n",
      "    \n",
      "   * \n",
      "  * * \n",
      " * * * \n",
      "* * * * \n",
      "\n",
      "* \n",
      "* * \n",
      "* * * \n",
      "* * * * \n"
     ]
    }
   ],
   "source": [
    "n=int(input(\"Introduce número entre 1 y 20\"))\n",
    "if((n >= 1) and (n <= 20)):\n",
    "    for i in range(n+1):\n",
    "        print('*'*i)\n",
    "    for i in range(n+1):\n",
    "        espacios= n-i\n",
    "        print(' '*espacios+'*'*i)\n",
    "    for i in range(n+1):\n",
    "        espacios= n-i\n",
    "        print(' '*espacios+'* '*i)\n",
    "    for i in range(n+1):\n",
    "        print('* '*i)\n",
    "else:\n",
    "     print(\"El número no es valido.\")"
   ]
  },
  {
   "attachments": {},
   "cell_type": "markdown",
   "metadata": {},
   "source": [
    "Ejercicio 3"
   ]
  },
  {
   "cell_type": "code",
   "execution_count": 9,
   "metadata": {},
   "outputs": [
    {
     "name": "stdout",
     "output_type": "stream",
     "text": [
      "Tienes 26 años -4 meses y 7 días\n"
     ]
    }
   ],
   "source": [
    "from datetime import datetime\n",
    "\n",
    "dia = int(input(\"introduce el día actual: \"))\n",
    "\n",
    "mes = int(input(\"introduce el mes actual: \"))\n",
    "\n",
    "año = int(input(\"introduece el año actual: \"))\n",
    "\n",
    "dia_aniversario = int(input (\"introduce el día de tu nacimiento: \"))\n",
    "\n",
    "mes_aniversario = int(input (\"introduce el mes de tu nacimiento: \"))\n",
    "\n",
    "año_aniversario = int(input (\"introduce el año de tu nacimiento: \"))\n",
    "\n",
    "resultado_dia = dia - dia_aniversario\n",
    "\n",
    "resultado_mes = mes - mes_aniversario\n",
    "\n",
    "resultado_año = año - año_aniversario\n",
    "\n",
    "print ( \"Tienes\", resultado_año, \"años\", resultado_mes, \"meses\", \"y\", resultado_dia, \"días\")"
   ]
  },
  {
   "attachments": {},
   "cell_type": "markdown",
   "metadata": {},
   "source": [
    "Ejercicio 4"
   ]
  },
  {
   "cell_type": "code",
   "execution_count": 21,
   "metadata": {},
   "outputs": [
    {
     "name": "stdout",
     "output_type": "stream",
     "text": [
      "hello\n",
      "102040570\n"
     ]
    }
   ],
   "source": [
    "tupla = ('h','e','l','l','o')\n",
    "\n",
    "str = ''.join(tupla)\n",
    "print (str)\n",
    "\n",
    "tupla2= ('10', '20', '40', '5', '70')\n",
    "str = ''.join(tupla2)\n",
    "print (str)"
   ]
  },
  {
   "attachments": {},
   "cell_type": "markdown",
   "metadata": {},
   "source": [
    "Ejercicio 5"
   ]
  },
  {
   "cell_type": "code",
   "execution_count": 30,
   "metadata": {},
   "outputs": [
    {
     "name": "stdout",
     "output_type": "stream",
     "text": [
      "[('x',), ('a', 'b'), ('a', 'b', 'c'), 'd']\n"
     ]
    }
   ],
   "source": [
    "tupla= [(), (), ('x',), ('a', 'b'), ('a', 'b', 'c'), ('d')]\n",
    "\n",
    "tupla =[t for t in tupla if t]\n",
    "\n",
    "print(tupla)\n"
   ]
  },
  {
   "attachments": {},
   "cell_type": "markdown",
   "metadata": {},
   "source": [
    "Ejercicio 6"
   ]
  },
  {
   "cell_type": "code",
   "execution_count": 17,
   "metadata": {},
   "outputs": [
    {
     "name": "stdout",
     "output_type": "stream",
     "text": [
      "La suma es 450 y el promedio es 37.5, para la tupla que tiene 12 elementos\n"
     ]
    }
   ],
   "source": [
    "tupla = ((10, 10, 10, 12), (30, 45, 56, 45), (81, 80, 39, 32))\n",
    "\n",
    "\n",
    "elementos = 0\n",
    "sumatoria = 0\n",
    "for fila in tupla:\n",
    "    for elemento in fila:\n",
    "        sumatoria += elemento\n",
    "        elementos += 1\n",
    "\n",
    "promedio = sumatoria / elementos\n",
    "print(\n",
    "    f\"La suma es {sumatoria} y el promedio es {promedio}, para la tupla que tiene {elementos} elementos\"\n",
    ")\n"
   ]
  },
  {
   "attachments": {},
   "cell_type": "markdown",
   "metadata": {},
   "source": [
    "Ejercicio 7"
   ]
  },
  {
   "cell_type": "code",
   "execution_count": 19,
   "metadata": {},
   "outputs": [
    {
     "name": "stdout",
     "output_type": "stream",
     "text": [
      "Recaudado: 0\n",
      "Pendiente de cobro:  0\n",
      "Recaudado: 0\n",
      "Pendiente de cobro:  400.0\n",
      "Recaudado: 400.0\n",
      "Pendiente de cobro:  0.0\n"
     ]
    }
   ],
   "source": [
    "facturas = {}\n",
    "cobrado = 0\n",
    "pendiente = 0\n",
    "more = ''\n",
    "while more != 'T':\n",
    "    if more == 'A':\n",
    "        clave = input('Por favor Introduce el número de la factura: ')\n",
    "        coste = float(input('Por favor Introduce el coste de la factura: '))\n",
    "        facturas[clave] = coste\n",
    "        pendiente += coste\n",
    "    if more == 'P':\n",
    "        clave = input('Por favor Introduce el número de la factura a pagar: ')\n",
    "        coste = facturas.pop(clave, 0)\n",
    "        cobrado += coste\n",
    "        pendiente -= coste\n",
    "    print('Recaudado:', cobrado)\n",
    "    print('Pendiente de cobro: ', pendiente)\n",
    "    more = input('¿Quieres añadir una nueva factura (A), pagarla (P) o terminar (T)? ')"
   ]
  },
  {
   "attachments": {},
   "cell_type": "markdown",
   "metadata": {},
   "source": [
    "Ejercicio 8"
   ]
  },
  {
   "cell_type": "code",
   "execution_count": 22,
   "metadata": {},
   "outputs": [],
   "source": []
  },
  {
   "cell_type": "code",
   "execution_count": 27,
   "metadata": {},
   "outputs": [],
   "source": [
    "def create_pocker():\n",
    "    tipos=['C','P','E','T']\n",
    "    numeros=list(range(1,14,1))\n",
    "\n",
    "\n",
    "    baraja=[]\n",
    "\n",
    "    for tipo in tipos:\n",
    "        for numero in numeros:\n",
    "            carta=tipo+str(numero)\n",
    "            baraja.append(carta)\n",
    "\n",
    "    return baraja\n",
    "\n"
   ]
  },
  {
   "cell_type": "code",
   "execution_count": 28,
   "metadata": {},
   "outputs": [
    {
     "data": {
      "text/plain": [
       "['C1',\n",
       " 'C2',\n",
       " 'C3',\n",
       " 'C4',\n",
       " 'C5',\n",
       " 'C6',\n",
       " 'C7',\n",
       " 'C8',\n",
       " 'C9',\n",
       " 'C10',\n",
       " 'C11',\n",
       " 'C12',\n",
       " 'C13',\n",
       " 'P1',\n",
       " 'P2',\n",
       " 'P3',\n",
       " 'P4',\n",
       " 'P5',\n",
       " 'P6',\n",
       " 'P7',\n",
       " 'P8',\n",
       " 'P9',\n",
       " 'P10',\n",
       " 'P11',\n",
       " 'P12',\n",
       " 'P13',\n",
       " 'E1',\n",
       " 'E2',\n",
       " 'E3',\n",
       " 'E4',\n",
       " 'E5',\n",
       " 'E6',\n",
       " 'E7',\n",
       " 'E8',\n",
       " 'E9',\n",
       " 'E10',\n",
       " 'E11',\n",
       " 'E12',\n",
       " 'E13',\n",
       " 'T1',\n",
       " 'T2',\n",
       " 'T3',\n",
       " 'T4',\n",
       " 'T5',\n",
       " 'T6',\n",
       " 'T7',\n",
       " 'T8',\n",
       " 'T9',\n",
       " 'T10',\n",
       " 'T11',\n",
       " 'T12',\n",
       " 'T13']"
      ]
     },
     "execution_count": 28,
     "metadata": {},
     "output_type": "execute_result"
    }
   ],
   "source": [
    "baraja=create_pocker()\n",
    "baraja"
   ]
  },
  {
   "cell_type": "code",
   "execution_count": 29,
   "metadata": {},
   "outputs": [],
   "source": [
    "import random"
   ]
  },
  {
   "cell_type": "code",
   "execution_count": 36,
   "metadata": {},
   "outputs": [],
   "source": [
    "cantidad= random.randint(1,26)\n",
    "setA= set(random.sample(baraja,cantidad))\n",
    "\n",
    "cantidad= random.randint(1,26)\n",
    "setB= set(random.sample(baraja,cantidad))"
   ]
  },
  {
   "cell_type": "code",
   "execution_count": 37,
   "metadata": {},
   "outputs": [
    {
     "name": "stdout",
     "output_type": "stream",
     "text": [
      "{'T8', 'T10', 'C6', 'P6', 'C11', 'T2', 'E8', 'C1', 'C9', 'T1', 'P3', 'P13', 'T11', 'E2', 'P7', 'C10', 'C7', 'E6'}\n",
      "{'T8', 'P6', 'T4', 'T9', 'T1', 'T13', 'P10', 'T7', 'P7', 'E3'}\n"
     ]
    }
   ],
   "source": [
    "print(setA)\n",
    "print(setB)"
   ]
  },
  {
   "cell_type": "code",
   "execution_count": 40,
   "metadata": {},
   "outputs": [
    {
     "data": {
      "text/plain": [
       "0.0625"
      ]
     },
     "execution_count": 40,
     "metadata": {},
     "output_type": "execute_result"
    }
   ],
   "source": [
    "#Probabilidad de la intersección para cualquier simbolo de cartas, donde se asume que se repone la primer carta que se toma\n",
    "#P(A)= 13/52\n",
    "#P(B)= 13/52\n",
    "\n",
    "Pinterseccion= (13/52)*(13/52)\n",
    "\n",
    "Pinterseccion\n"
   ]
  },
  {
   "cell_type": "code",
   "execution_count": 42,
   "metadata": {},
   "outputs": [
    {
     "name": "stdout",
     "output_type": "stream",
     "text": [
      "0.0625\n",
      "0.4375\n"
     ]
    }
   ],
   "source": [
    "#Probabilidad de unión, siendo la P(a)+P(b)-P(a∩b)\n",
    "\n",
    "PUnion= 13/52+13/52-Pinterseccion\n",
    "\n",
    "print(Pinterseccion)\n",
    "print(PUnion)"
   ]
  }
 ],
 "metadata": {
  "kernelspec": {
   "display_name": "ClasePreng",
   "language": "python",
   "name": "python3"
  },
  "language_info": {
   "codemirror_mode": {
    "name": "ipython",
    "version": 3
   },
   "file_extension": ".py",
   "mimetype": "text/x-python",
   "name": "python",
   "nbconvert_exporter": "python",
   "pygments_lexer": "ipython3",
   "version": "3.9.16"
  },
  "orig_nbformat": 4,
  "vscode": {
   "interpreter": {
    "hash": "ff1cd5468b984263ab7ce23b36c18870c0e5f692501bed471487124f00bc1fdf"
   }
  }
 },
 "nbformat": 4,
 "nbformat_minor": 2
}
